{
 "cells": [
  {
   "cell_type": "code",
   "execution_count": 7,
   "metadata": {},
   "outputs": [
    {
     "name": "stderr",
     "output_type": "stream",
     "text": [
      "[nltk_data] Downloading package punkt to\n",
      "[nltk_data]     /Users/kristinasvetova/nltk_data...\n",
      "[nltk_data]   Package punkt is already up-to-date!\n",
      "[nltk_data] Downloading package wordnet to\n",
      "[nltk_data]     /Users/kristinasvetova/nltk_data...\n",
      "[nltk_data]   Package wordnet is already up-to-date!\n"
     ]
    },
    {
     "name": "stdout",
     "output_type": "stream",
     "text": [
      "0                            mum\n",
      "1                execut director\n",
      "2                       attorney\n",
      "3                student teacher\n",
      "4                 product market\n",
      "                  ...           \n",
      "28035                 oper manag\n",
      "28036          senior it consult\n",
      "28037                   research\n",
      "28038    region oper train manag\n",
      "28039                         na\n",
      "Name: Job title, Length: 28040, dtype: object\n"
     ]
    }
   ],
   "source": [
    "import pandas as pd\n",
    "import nltk\n",
    "from nltk.tokenize import word_tokenize\n",
    "from nltk.stem import PorterStemmer\n",
    "import string\n",
    "\n",
    "data = pd.read_excel('Ask A Manager Salary Survey 2021 (Responses).xlsx')\n",
    "\n",
    "# remove punctuation\n",
    "job_titles = data['Job title'].astype(str).apply(lambda x: x.translate(str.maketrans('', '', string.punctuation)))\n",
    "\n",
    "# tokenization & stemming\n",
    "nltk.download('punkt')\n",
    "nltk.download('wordnet')\n",
    "\n",
    "stemmer = PorterStemmer()\n",
    "\n",
    "def tokenize_and_stem(text):\n",
    "    tokens = word_tokenize(text.lower())  \n",
    "    stems = [stemmer.stem(token) for token in tokens]  \n",
    "    return ' '.join(stems)\n",
    "\n",
    "stemmed_job_titles = job_titles.apply(tokenize_and_stem)\n",
    "\n",
    "print(stemmed_job_titles)\n"
   ]
  },
  {
   "cell_type": "code",
   "execution_count": 10,
   "metadata": {},
   "outputs": [],
   "source": [
    "data2 = pd.read_excel('clean.xlsx')\n",
    "data2['Job Title'] = stemmed_job_titles\n",
    "data2.to_excel('clean.xlsx', index=False)\n"
   ]
  }
 ],
 "metadata": {
  "kernelspec": {
   "display_name": "Python 3",
   "language": "python",
   "name": "python3"
  },
  "language_info": {
   "codemirror_mode": {
    "name": "ipython",
    "version": 3
   },
   "file_extension": ".py",
   "mimetype": "text/x-python",
   "name": "python",
   "nbconvert_exporter": "python",
   "pygments_lexer": "ipython3",
   "version": "3.11.8"
  },
  "orig_nbformat": 4
 },
 "nbformat": 4,
 "nbformat_minor": 2
}
