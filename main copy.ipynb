{
 "cells": [
  {
   "cell_type": "code",
   "execution_count": 7,
   "metadata": {},
   "outputs": [
    {
     "name": "stderr",
     "output_type": "stream",
     "text": [
      "[nltk_data] Downloading package wordnet to\n",
      "[nltk_data]     C:\\Users\\ricca\\AppData\\Roaming\\nltk_data...\n",
      "[nltk_data]   Package wordnet is already up-to-date!\n",
      "[nltk_data] Downloading package averaged_perceptron_tagger to\n",
      "[nltk_data]     C:\\Users\\ricca\\AppData\\Roaming\\nltk_data...\n",
      "[nltk_data]   Package averaged_perceptron_tagger is already up-to-\n",
      "[nltk_data]       date!\n",
      "[nltk_data] Downloading package stopwords to\n",
      "[nltk_data]     C:\\Users\\ricca\\AppData\\Roaming\\nltk_data...\n",
      "[nltk_data]   Package stopwords is already up-to-date!\n"
     ]
    }
   ],
   "source": [
    "import pandas as pd\n",
    "import numpy as np\n",
    "import nltk\n",
    "nltk.download('wordnet')\n",
    "nltk.download('averaged_perceptron_tagger')\n",
    "from nltk.stem import WordNetLemmatizer\n",
    "nltk.download('stopwords')\n",
    "from nltk.corpus import stopwords \n",
    "from nltk.tokenize import word_tokenize \n",
    "import string\n",
    "\n",
    "np.set_printoptions(threshold=np.inf)\n",
    "\n",
    "data = pd.read_excel('Job_Title.xlsx')\n",
    "\n",
    "job_titles = data['Job Title'].astype(str).apply(lambda x: x.translate(str.maketrans('', '', string.punctuation)))\n",
    "\n",
    "sw = stopwords.words('english')  \n",
    "\n",
    "# Tokenizzazione e rimozione delle stopwords\n",
    "def preprocess(text):\n",
    "    tokens = word_tokenize(text.lower())\n",
    "    tokens = [t for t in tokens if t not in sw and t.isalpha()]\n",
    "    return ' '.join(tokens)\n",
    "\n",
    "processed_titles = job_titles.apply(preprocess)\n",
    "\n",
    "# Calcolo della similarità del coseno\n",
    "def cosine_similarity(set1, set2):\n",
    "    vector = set1.union(set2)\n",
    "    l1 = [1 if w in set1 else 0 for w in vector]\n",
    "    l2 = [1 if w in set2 else 0 for w in vector]\n",
    "    \n",
    "    dot_product = sum([l1[i] * l2[i] for i in range(len(vector))])\n",
    "    magnitude = (sum(l1) * sum(l2)) ** 0.5\n",
    "    if magnitude == 0:\n",
    "        return 0\n",
    "    else:\n",
    "        return dot_product / magnitude\n",
    "\n",
    "elements = []\n"
   ]
  },
  {
   "cell_type": "code",
   "execution_count": 8,
   "metadata": {},
   "outputs": [],
   "source": [
    "# Calcolare la similarità per ogni coppia di titoli\n",
    "for i, title1 in zip(processed_titles.index, processed_titles.values):\n",
    "    for j, title2 in zip(processed_titles.index, processed_titles.values):\n",
    "        if i != j:\n",
    "            similarity = cosine_similarity(set(title1), set(title2))\n",
    "            if similarity > 0.5:\n",
    "                elements.append(f'{similarity}: {job_titles.iloc[i]} and {job_titles.iloc[j]}')\n",
    "                #elements.append(f\"{similarity} : Similarity between {job_titles.iloc[i]} and {job_titles.iloc[j]}\")   \n",
    "    print(f'{elements}\\n')\n",
    "elements = pd.Dataframe(elements)\n",
    "\n",
    "elements.to_excel('similarity.xlsx')"
   ]
  }
 ],
 "metadata": {
  "kernelspec": {
   "display_name": "Python 3",
   "language": "python",
   "name": "python3"
  },
  "language_info": {
   "codemirror_mode": {
    "name": "ipython",
    "version": 3
   },
   "file_extension": ".py",
   "mimetype": "text/x-python",
   "name": "python",
   "nbconvert_exporter": "python",
   "pygments_lexer": "ipython3",
   "version": "3.11.7"
  }
 },
 "nbformat": 4,
 "nbformat_minor": 2
}
